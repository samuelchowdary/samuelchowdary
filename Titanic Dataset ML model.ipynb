{
 "cells": [
  {
   "cell_type": "markdown",
   "id": "42705bd8",
   "metadata": {},
   "source": [
    "# Logistic Regression\n",
    "\n",
    "I am a newbie to data science and machine learning, and will be attempting to work my way through the Titanic: Machine Learning from Titanic dataset.\n",
    "\n",
    "In this classification problem, the goal is to predict if a passenger survived the sinking of the Titanic or not. <br>\n",
    "First, we will do some exploratory data analysis and then use our understanding in logistic regression to train the model for classification. We then deploy our model on test dataset and see how well the model does predictions.\n",
    "\n",
    "Link for the Dataset: https://www.kaggle.com/c/titanic/data\n"
   ]
  },
  {
   "cell_type": "markdown",
   "id": "b9f94e16",
   "metadata": {},
   "source": [
    "First, let's import some libraries which are very much useful in Reading the dataset and helpful to explore our data using certain functions."
   ]
  },
  {
   "cell_type": "code",
   "execution_count": 1,
   "id": "e50c90f9",
   "metadata": {},
   "outputs": [],
   "source": [
    "import pandas as pd\n",
    "import numpy as np\n",
    "import matplotlib.pyplot as plt\n",
    "import seaborn as sns\n",
    "\n",
    "import warnings\n",
    "warnings.filterwarnings('ignore')"
   ]
  },
  {
   "cell_type": "markdown",
   "id": "e2103f47",
   "metadata": {},
   "source": [
    "Let's read our training dataset \"train_titanic.csv\" into \"train\" by using pandas library"
   ]
  },
  {
   "cell_type": "code",
   "execution_count": 2,
   "id": "697d548a",
   "metadata": {},
   "outputs": [],
   "source": [
    "train = pd.read_csv('C:/Users/ADMIN/Documents/train.csv')"
   ]
  },
  {
   "cell_type": "markdown",
   "id": "01a816da",
   "metadata": {},
   "source": [
    "## Exploratory Data Analysis - EDA\n",
    "Let's overview the dataset using `info()` first!"
   ]
  },
  {
   "cell_type": "code",
   "execution_count": 3,
   "id": "72a0e5ca",
   "metadata": {},
   "outputs": [
    {
     "name": "stdout",
     "output_type": "stream",
     "text": [
      "<class 'pandas.core.frame.DataFrame'>\n",
      "RangeIndex: 891 entries, 0 to 890\n",
      "Data columns (total 12 columns):\n",
      " #   Column       Non-Null Count  Dtype  \n",
      "---  ------       --------------  -----  \n",
      " 0   PassengerId  891 non-null    int64  \n",
      " 1   Survived     891 non-null    int64  \n",
      " 2   Pclass       891 non-null    int64  \n",
      " 3   Name         891 non-null    object \n",
      " 4   Sex          891 non-null    object \n",
      " 5   Age          714 non-null    float64\n",
      " 6   SibSp        891 non-null    int64  \n",
      " 7   Parch        891 non-null    int64  \n",
      " 8   Ticket       891 non-null    object \n",
      " 9   Fare         891 non-null    float64\n",
      " 10  Cabin        204 non-null    object \n",
      " 11  Embarked     889 non-null    object \n",
      "dtypes: float64(2), int64(5), object(5)\n",
      "memory usage: 83.7+ KB\n"
     ]
    }
   ],
   "source": [
    "train.info()"
   ]
  },
  {
   "cell_type": "markdown",
   "id": "e33f7a9c",
   "metadata": {},
   "source": [
    "**Missing Data**<br>\n",
    "So, we have 891 entries in our train dataset with column name on the traveler information along with other information such as passenger class (Pclass), Fare, Ticket Cabin etc. <br>\n",
    "Notice, Age column have 714 non-null whereas Cabin have 204 non-null values. Embarked also have 889 non-null. So there is some data missing!<br> Let's do some calculation to find out the % of missing data in each column!<br>\n",
    "Remember, we have a function `isnull()` in this situation!"
   ]
  },
  {
   "cell_type": "code",
   "execution_count": 4,
   "id": "fd43b314",
   "metadata": {},
   "outputs": [
    {
     "data": {
      "text/plain": [
       "Cabin          77.1\n",
       "Age            19.9\n",
       "Embarked        0.2\n",
       "PassengerId     0.0\n",
       "Survived        0.0\n",
       "dtype: float64"
      ]
     },
     "execution_count": 4,
     "metadata": {},
     "output_type": "execute_result"
    }
   ],
   "source": [
    "pct_missing = round((train.isnull().sum())/(train.isnull().count())*100,1)\n",
    "pct_missing.sort_values(ascending=False).head()"
   ]
  },
  {
   "cell_type": "markdown",
   "id": "0a9ba74b",
   "metadata": {},
   "source": [
    "We have the numbers now!<br>\n",
    "* `Cabin` column is missing 77.1% of its data\n",
    "* `Age` column is missing 19.9% of its data\n",
    "* `Embarked` column is missing 0.2% of its data"
   ]
  },
  {
   "cell_type": "markdown",
   "id": "41d68a51",
   "metadata": {},
   "source": [
    "we use seaborn's heatmap method to visualization of missing data.<br>\n",
    "`isnull()` return `True` for all the places where the data is missing."
   ]
  },
  {
   "cell_type": "code",
   "execution_count": 5,
   "id": "1e37006f",
   "metadata": {},
   "outputs": [
    {
     "data": {
      "text/plain": [
       "<AxesSubplot:>"
      ]
     },
     "execution_count": 5,
     "metadata": {},
     "output_type": "execute_result"
    },
    {
     "data": {
      "image/png": "[encoded data removed]",
      "text/plain": [
       "<Figure size 640x480 with 1 Axes>"
      ]
     },
     "metadata": {},
     "output_type": "display_data"
    }
   ],
   "source": [
    "sns.heatmap(data=train.isnull(), yticklabels=False,cbar=False)"
   ]
  },
  {
   "cell_type": "markdown",
   "id": "b589583b",
   "metadata": {},
   "source": [
    "Notice, white are `True` which represent the missing data!<br><br>\n",
    "**If we want to now more about the dataset<br>**\n",
    "we can use `countplot()` to see how many survived and how many died!"
   ]
  },
  {
   "cell_type": "code",
   "execution_count": 6,
   "id": "46998dbd",
   "metadata": {},
   "outputs": [
    {
     "data": {
      "text/plain": [
       "<AxesSubplot:xlabel='Survived', ylabel='count'>"
      ]
     },
     "execution_count": 6,
     "metadata": {},
     "output_type": "execute_result"
    },
    {
     "data": {
      "image/png": "[encoded data removed]",
      "text/plain": [
       "<Figure size 640x480 with 1 Axes>"
      ]
     },
     "metadata": {},
     "output_type": "display_data"
    }
   ],
   "source": [
    "sns.countplot(x='Survived', data=train)"
   ]
  },
  {
   "cell_type": "markdown",
   "id": "60e0a323",
   "metadata": {},
   "source": [
    "It's shows that not many passengers were survived! <br><br>\n",
    "**Let's see into little deeper, pass `hue = Sex` to see the female and male ratio in survived and died passengers**"
   ]
  },
  {
   "cell_type": "code",
   "execution_count": 7,
   "id": "1f93ee81",
   "metadata": {},
   "outputs": [
    {
     "data": {
      "text/plain": [
       "<AxesSubplot:xlabel='Survived', ylabel='count'>"
      ]
     },
     "execution_count": 7,
     "metadata": {},
     "output_type": "execute_result"
    },
    {
     "data": {
      "image/png": "[encoded data removed]",
      "text/plain": [
       "<Figure size 640x480 with 1 Axes>"
      ]
     },
     "metadata": {},
     "output_type": "display_data"
    }
   ],
   "source": [
    "sns.countplot(x='Survived', hue='Sex',data=train)"
   ]
  },
  {
   "cell_type": "markdown",
   "id": "7e0ae7f5",
   "metadata": {},
   "source": [
    "The plot suggests that not many males survived whereas, most of the females survived."
   ]
  },
  {
   "cell_type": "markdown",
   "id": "08ea4c49",
   "metadata": {},
   "source": [
    "**Let's see based on 'Pclass' who got survived the most**"
   ]
  },
  {
   "cell_type": "code",
   "execution_count": 8,
   "id": "0f48d721",
   "metadata": {},
   "outputs": [
    {
     "data": {
      "text/plain": [
       "<AxesSubplot:xlabel='Survived', ylabel='count'>"
      ]
     },
     "execution_count": 8,
     "metadata": {},
     "output_type": "execute_result"
    },
    {
     "data": {
      "image/png": "[encoded data removed]",
      "text/plain": [
       "<Figure size 640x480 with 1 Axes>"
      ]
     },
     "metadata": {},
     "output_type": "display_data"
    }
   ],
   "source": [
    "sns.countplot(x='Survived', hue='Pclass',data=train)"
   ]
  },
  {
   "cell_type": "markdown",
   "id": "b3e287c1",
   "metadata": {},
   "source": [
    "We got even better understanding, now we know that more than half of the class-1 passenger survived whereas most of the class-3 passengers died."
   ]
  },
  {
   "cell_type": "markdown",
   "id": "4e7fd91c",
   "metadata": {},
   "source": [
    "### Data Cleaning\n",
    "We have missing data! <br>\n",
    "**`Age` column is missing ~ 19.9% of its data.**<br>\n",
    "The appropriate and convenient way to fix 'Age' column is by filling the missing data with mean or average value of all passengers in the column. We can do even better in this case, becasue we know that there are three passenger classes, its better to use the average age for each missing passenger for its own class. <br>\n",
    "Let's use a `boxplot()` method to explore if their is any relationship in class and passenger age?"
   ]
  },
  {
   "cell_type": "code",
   "execution_count": 9,
   "id": "e8674392",
   "metadata": {},
   "outputs": [
    {
     "data": {
      "text/plain": [
       "<AxesSubplot:xlabel='Pclass', ylabel='Age'>"
      ]
     },
     "execution_count": 9,
     "metadata": {},
     "output_type": "execute_result"
    },
    {
     "data": {
      "image/png": "[encoded data removed]",
      "text/plain": [
       "<Figure size 800x600 with 1 Axes>"
      ]
     },
     "metadata": {},
     "output_type": "display_data"
    }
   ],
   "source": [
    "plt.figure(figsize=(8, 6))\n",
    "sns.boxplot(x='Pclass',y='Age',data=train)"
   ]
  },
  {
   "cell_type": "markdown",
   "id": "314ffec4",
   "metadata": {},
   "source": [
    "Here, `Pclass` and `Age` are related,the older the passenger is, the higher the class he traveled in! <br>\n",
    "So we can fill the missing `Age` with respect to the passenger class is the better way to fill in missing data in `Age`!<br>\n",
    "If we may want to know the average age of the passenger for each class, use `groupby()` function it is usefull here!<br><br>\n",
    "Let's find the average age of the passenger in each class first, we only need `Pclass` and `Age` columns"
   ]
  },
  {
   "cell_type": "code",
   "execution_count": 10,
   "id": "f5bdd79d",
   "metadata": {},
   "outputs": [
    {
     "data": {
      "text/html": [
       "<div>\n",
       "<style scoped>\n",
       "    .dataframe tbody tr th:only-of-type {\n",
       "        vertical-align: middle;\n",
       "    }\n",
       "\n",
       "    .dataframe tbody tr th {\n",
       "        vertical-align: top;\n",
       "    }\n",
       "\n",
       "    .dataframe thead th {\n",
       "        text-align: right;\n",
       "    }\n",
       "</style>\n",
       "<table border=\"1\" class=\"dataframe\">\n",
       "  <thead>\n",
       "    <tr style=\"text-align: right;\">\n",
       "      <th></th>\n",
       "      <th>Age</th>\n",
       "    </tr>\n",
       "    <tr>\n",
       "      <th>Pclass</th>\n",
       "      <th></th>\n",
       "    </tr>\n",
       "  </thead>\n",
       "  <tbody>\n",
       "    <tr>\n",
       "      <th>1</th>\n",
       "      <td>38.233441</td>\n",
       "    </tr>\n",
       "    <tr>\n",
       "      <th>2</th>\n",
       "      <td>29.877630</td>\n",
       "    </tr>\n",
       "    <tr>\n",
       "      <th>3</th>\n",
       "      <td>25.140620</td>\n",
       "    </tr>\n",
       "  </tbody>\n",
       "</table>\n",
       "</div>"
      ],
      "text/plain": [
       "              Age\n",
       "Pclass           \n",
       "1       38.233441\n",
       "2       29.877630\n",
       "3       25.140620"
      ]
     },
     "execution_count": 10,
     "metadata": {},
     "output_type": "execute_result"
    }
   ],
   "source": [
    "train[['Pclass','Age']].groupby('Pclass').mean()"
   ]
  },
  {
   "cell_type": "markdown",
   "id": "2fbb7bf0",
   "metadata": {},
   "source": [
    "Now, we have average age for each class, let's write a custom function to fill in the missing values in `Age` columns. We will use if-else conditional statement in the function!"
   ]
  },
  {
   "cell_type": "code",
   "execution_count": 11,
   "id": "1db7df73",
   "metadata": {},
   "outputs": [],
   "source": [
    "#defining a function 'impute_age'\n",
    "def impute_age(age_pclass): # passing age_pclass as ['Age', 'Pclass']\n",
    "    \n",
    "    # Passing age_pclass[0] which is 'Age' to variable 'Age'\n",
    "    Age = age_pclass[0]\n",
    "    \n",
    "    # Passing age_pclass[2] which is 'Pclass' to variable 'Pclass'\n",
    "    Pclass = age_pclass[1]\n",
    "    \n",
    "    #applying condition based on the Age and filling the missing data respectively \n",
    "    if pd.isnull(Age):\n",
    "\n",
    "        if Pclass == 1:\n",
    "            return 38\n",
    "\n",
    "        elif Pclass == 2:\n",
    "            return 30\n",
    "\n",
    "        else:\n",
    "            return 25\n",
    "\n",
    "    else:\n",
    "        return Age"
   ]
  },
  {
   "cell_type": "code",
   "execution_count": 12,
   "id": "13f0abec",
   "metadata": {},
   "outputs": [],
   "source": [
    "# Let's apply the function to our data\n",
    "# axis = 1 becasue we want to apply this across the column\n",
    "train['Age'] = train[['Age','Pclass']].apply(impute_age,axis=1)\n",
    "# Let's revise the 'impute_age' function and the statement above! "
   ]
  },
  {
   "cell_type": "code",
   "execution_count": 13,
   "id": "250a0752",
   "metadata": {},
   "outputs": [
    {
     "data": {
      "text/plain": [
       "<AxesSubplot:>"
      ]
     },
     "execution_count": 13,
     "metadata": {},
     "output_type": "execute_result"
    },
    {
     "data": {
      "image/png": "[encoded data removed]",
      "text/plain": [
       "<Figure size 640x480 with 1 Axes>"
      ]
     },
     "metadata": {},
     "output_type": "display_data"
    }
   ],
   "source": [
    "# Let's try to re-plot the heatmap now!\n",
    "sns.heatmap(train.isnull(),yticklabels=False,cbar=False)"
   ]
  },
  {
   "cell_type": "markdown",
   "id": "8e3668dd",
   "metadata": {},
   "source": [
    "So, we got this done, no more white color for Age means we have filled all the missing data accordingly!"
   ]
  },
  {
   "cell_type": "code",
   "execution_count": 14,
   "id": "be415fc0",
   "metadata": {},
   "outputs": [],
   "source": [
    "train.drop('Cabin',axis=1,inplace=True)"
   ]
  },
  {
   "cell_type": "code",
   "execution_count": 15,
   "id": "2d0db4f4",
   "metadata": {},
   "outputs": [
    {
     "data": {
      "text/plain": [
       "<AxesSubplot:>"
      ]
     },
     "execution_count": 15,
     "metadata": {},
     "output_type": "execute_result"
    },
    {
     "data": {
      "image/png": "[encoded data removed]",
      "text/plain": [
       "<Figure size 640x480 with 1 Axes>"
      ]
     },
     "metadata": {},
     "output_type": "display_data"
    }
   ],
   "source": [
    "sns.heatmap(train.isnull(),yticklabels=False,cbar=False)"
   ]
  },
  {
   "cell_type": "markdown",
   "id": "196aa0fa",
   "metadata": {},
   "source": [
    "So, we don't have `Cabin` Column in our data now, only white color is for `Embarked` column. This is only 0.2%<br>\n",
    "Let's drop any other missing value in the dataset now, this will essentially drop the row for missing `Embarked` data. We will re-plot the heatmap after this operation."
   ]
  },
  {
   "cell_type": "code",
   "execution_count": 16,
   "id": "1c8b5dd4",
   "metadata": {},
   "outputs": [
    {
     "data": {
      "text/plain": [
       "<AxesSubplot:>"
      ]
     },
     "execution_count": 16,
     "metadata": {},
     "output_type": "execute_result"
    },
    {
     "data": {
      "image/png": "[encoded data removed]",
      "text/plain": [
       "<Figure size 640x480 with 1 Axes>"
      ]
     },
     "metadata": {},
     "output_type": "display_data"
    }
   ],
   "source": [
    "train.dropna(inplace=True)\n",
    "sns.heatmap(train.isnull(),yticklabels=False,cbar=False)"
   ]
  },
  {
   "cell_type": "markdown",
   "id": "b7c822f4",
   "metadata": {},
   "source": [
    "We don't have any missing data in our dataset now!<br>\n",
    "It's time to deal with the Categorical Features now!<br><br>\n",
    "### Dealing with Categorical Features\n",
    "To apply Machine Learning algorithm, we need to convert categorical variable into some indicator variables. <br>\n",
    "For example, in `Sex` column for female/male, we need to input 0/1 to make the Machine Learning model work. For this, we will create a new column indicating the `Sex` as 0/1 for female/male, this process is called \n",
    "***creating dummies***. This is important because the Machine Learning model will not take string variable as input to work with.<br><br>\n",
    "\n",
    "We have an inbuilt function ['pandas.get_dummies'], we can use this function to convert easily into variables.\n",
    "\n",
    "Let's pass the `Sex` column and see how it works!"
   ]
  },
  {
   "cell_type": "code",
   "execution_count": 17,
   "id": "4f2e044e",
   "metadata": {},
   "outputs": [
    {
     "data": {
      "text/html": [
       "<div>\n",
       "<style scoped>\n",
       "    .dataframe tbody tr th:only-of-type {\n",
       "        vertical-align: middle;\n",
       "    }\n",
       "\n",
       "    .dataframe tbody tr th {\n",
       "        vertical-align: top;\n",
       "    }\n",
       "\n",
       "    .dataframe thead th {\n",
       "        text-align: right;\n",
       "    }\n",
       "</style>\n",
       "<table border=\"1\" class=\"dataframe\">\n",
       "  <thead>\n",
       "    <tr style=\"text-align: right;\">\n",
       "      <th></th>\n",
       "      <th>male</th>\n",
       "    </tr>\n",
       "  </thead>\n",
       "  <tbody>\n",
       "    <tr>\n",
       "      <th>0</th>\n",
       "      <td>1</td>\n",
       "    </tr>\n",
       "    <tr>\n",
       "      <th>1</th>\n",
       "      <td>0</td>\n",
       "    </tr>\n",
       "    <tr>\n",
       "      <th>2</th>\n",
       "      <td>0</td>\n",
       "    </tr>\n",
       "    <tr>\n",
       "      <th>3</th>\n",
       "      <td>0</td>\n",
       "    </tr>\n",
       "    <tr>\n",
       "      <th>4</th>\n",
       "      <td>1</td>\n",
       "    </tr>\n",
       "  </tbody>\n",
       "</table>\n",
       "</div>"
      ],
      "text/plain": [
       "   male\n",
       "0     1\n",
       "1     0\n",
       "2     0\n",
       "3     0\n",
       "4     1"
      ]
     },
     "execution_count": 17,
     "metadata": {},
     "output_type": "execute_result"
    }
   ],
   "source": [
    "sex = pd.get_dummies(train['Sex'], drop_first=True)\n",
    "sex.head()"
   ]
  },
  {
   "cell_type": "markdown",
   "id": "6392327f",
   "metadata": {},
   "source": [
    "So, this is what we want to input to our Machine Learning algorithm! <br>\n",
    "Let's do the similar process to `Embarked` columns!"
   ]
  },
  {
   "cell_type": "code",
   "execution_count": 18,
   "id": "c7e1473a",
   "metadata": {},
   "outputs": [
    {
     "data": {
      "text/html": [
       "<div>\n",
       "<style scoped>\n",
       "    .dataframe tbody tr th:only-of-type {\n",
       "        vertical-align: middle;\n",
       "    }\n",
       "\n",
       "    .dataframe tbody tr th {\n",
       "        vertical-align: top;\n",
       "    }\n",
       "\n",
       "    .dataframe thead th {\n",
       "        text-align: right;\n",
       "    }\n",
       "</style>\n",
       "<table border=\"1\" class=\"dataframe\">\n",
       "  <thead>\n",
       "    <tr style=\"text-align: right;\">\n",
       "      <th></th>\n",
       "      <th>Q</th>\n",
       "      <th>S</th>\n",
       "    </tr>\n",
       "  </thead>\n",
       "  <tbody>\n",
       "    <tr>\n",
       "      <th>0</th>\n",
       "      <td>0</td>\n",
       "      <td>1</td>\n",
       "    </tr>\n",
       "    <tr>\n",
       "      <th>1</th>\n",
       "      <td>0</td>\n",
       "      <td>0</td>\n",
       "    </tr>\n",
       "    <tr>\n",
       "      <th>2</th>\n",
       "      <td>0</td>\n",
       "      <td>1</td>\n",
       "    </tr>\n",
       "    <tr>\n",
       "      <th>3</th>\n",
       "      <td>0</td>\n",
       "      <td>1</td>\n",
       "    </tr>\n",
       "    <tr>\n",
       "      <th>4</th>\n",
       "      <td>0</td>\n",
       "      <td>1</td>\n",
       "    </tr>\n",
       "  </tbody>\n",
       "</table>\n",
       "</div>"
      ],
      "text/plain": [
       "   Q  S\n",
       "0  0  1\n",
       "1  0  0\n",
       "2  0  1\n",
       "3  0  1\n",
       "4  0  1"
      ]
     },
     "execution_count": 18,
     "metadata": {},
     "output_type": "execute_result"
    }
   ],
   "source": [
    "embark = pd.get_dummies(train['Embarked'], drop_first=True)\n",
    "embark.head()"
   ]
  },
  {
   "cell_type": "markdown",
   "id": "69eaa7f9",
   "metadata": {},
   "source": [
    "So, if Q is 0, S is 0, the Machine Learning algorithm can predict C is 1 because at one time, a passenger can use one port only so Q, S or C, only one can be 1/True. <br><br>\n",
    "Now, we have dummies in sex and embark for our categorical variables, let's use concatenation method to add these to the train data!<br>\n",
    "We will pass the list of dataframes `[train, sex, embark]` to `concat()` method and set axis = 1 as adding new columns. "
   ]
  },
  {
   "cell_type": "code",
   "execution_count": 19,
   "id": "26c6bba4",
   "metadata": {},
   "outputs": [],
   "source": [
    "train = pd.concat([train,sex,embark],axis=1)"
   ]
  },
  {
   "cell_type": "code",
   "execution_count": 20,
   "id": "afc921be",
   "metadata": {},
   "outputs": [
    {
     "data": {
      "text/html": [
       "<div>\n",
       "<style scoped>\n",
       "    .dataframe tbody tr th:only-of-type {\n",
       "        vertical-align: middle;\n",
       "    }\n",
       "\n",
       "    .dataframe tbody tr th {\n",
       "        vertical-align: top;\n",
       "    }\n",
       "\n",
       "    .dataframe thead th {\n",
       "        text-align: right;\n",
       "    }\n",
       "</style>\n",
       "<table border=\"1\" class=\"dataframe\">\n",
       "  <thead>\n",
       "    <tr style=\"text-align: right;\">\n",
       "      <th></th>\n",
       "      <th>PassengerId</th>\n",
       "      <th>Survived</th>\n",
       "      <th>Pclass</th>\n",
       "      <th>Name</th>\n",
       "      <th>Sex</th>\n",
       "      <th>Age</th>\n",
       "      <th>SibSp</th>\n",
       "      <th>Parch</th>\n",
       "      <th>Ticket</th>\n",
       "      <th>Fare</th>\n",
       "      <th>Embarked</th>\n",
       "      <th>male</th>\n",
       "      <th>Q</th>\n",
       "      <th>S</th>\n",
       "    </tr>\n",
       "  </thead>\n",
       "  <tbody>\n",
       "    <tr>\n",
       "      <th>0</th>\n",
       "      <td>1</td>\n",
       "      <td>0</td>\n",
       "      <td>3</td>\n",
       "      <td>Braund, Mr. Owen Harris</td>\n",
       "      <td>male</td>\n",
       "      <td>22.0</td>\n",
       "      <td>1</td>\n",
       "      <td>0</td>\n",
       "      <td>A/5 21171</td>\n",
       "      <td>7.2500</td>\n",
       "      <td>S</td>\n",
       "      <td>1</td>\n",
       "      <td>0</td>\n",
       "      <td>1</td>\n",
       "    </tr>\n",
       "    <tr>\n",
       "      <th>1</th>\n",
       "      <td>2</td>\n",
       "      <td>1</td>\n",
       "      <td>1</td>\n",
       "      <td>Cumings, Mrs. John Bradley (Florence Briggs Th...</td>\n",
       "      <td>female</td>\n",
       "      <td>38.0</td>\n",
       "      <td>1</td>\n",
       "      <td>0</td>\n",
       "      <td>PC 17599</td>\n",
       "      <td>71.2833</td>\n",
       "      <td>C</td>\n",
       "      <td>0</td>\n",
       "      <td>0</td>\n",
       "      <td>0</td>\n",
       "    </tr>\n",
       "    <tr>\n",
       "      <th>2</th>\n",
       "      <td>3</td>\n",
       "      <td>1</td>\n",
       "      <td>3</td>\n",
       "      <td>Heikkinen, Miss. Laina</td>\n",
       "      <td>female</td>\n",
       "      <td>26.0</td>\n",
       "      <td>0</td>\n",
       "      <td>0</td>\n",
       "      <td>STON/O2. 3101282</td>\n",
       "      <td>7.9250</td>\n",
       "      <td>S</td>\n",
       "      <td>0</td>\n",
       "      <td>0</td>\n",
       "      <td>1</td>\n",
       "    </tr>\n",
       "    <tr>\n",
       "      <th>3</th>\n",
       "      <td>4</td>\n",
       "      <td>1</td>\n",
       "      <td>1</td>\n",
       "      <td>Futrelle, Mrs. Jacques Heath (Lily May Peel)</td>\n",
       "      <td>female</td>\n",
       "      <td>35.0</td>\n",
       "      <td>1</td>\n",
       "      <td>0</td>\n",
       "      <td>113803</td>\n",
       "      <td>53.1000</td>\n",
       "      <td>S</td>\n",
       "      <td>0</td>\n",
       "      <td>0</td>\n",
       "      <td>1</td>\n",
       "    </tr>\n",
       "    <tr>\n",
       "      <th>4</th>\n",
       "      <td>5</td>\n",
       "      <td>0</td>\n",
       "      <td>3</td>\n",
       "      <td>Allen, Mr. William Henry</td>\n",
       "      <td>male</td>\n",
       "      <td>35.0</td>\n",
       "      <td>0</td>\n",
       "      <td>0</td>\n",
       "      <td>373450</td>\n",
       "      <td>8.0500</td>\n",
       "      <td>S</td>\n",
       "      <td>1</td>\n",
       "      <td>0</td>\n",
       "      <td>1</td>\n",
       "    </tr>\n",
       "  </tbody>\n",
       "</table>\n",
       "</div>"
      ],
      "text/plain": [
       "   PassengerId  Survived  Pclass  \\\n",
       "0            1         0       3   \n",
       "1            2         1       1   \n",
       "2            3         1       3   \n",
       "3            4         1       1   \n",
       "4            5         0       3   \n",
       "\n",
       "                                                Name     Sex   Age  SibSp  \\\n",
       "0                            Braund, Mr. Owen Harris    male  22.0      1   \n",
       "1  Cumings, Mrs. John Bradley (Florence Briggs Th...  female  38.0      1   \n",
       "2                             Heikkinen, Miss. Laina  female  26.0      0   \n",
       "3       Futrelle, Mrs. Jacques Heath (Lily May Peel)  female  35.0      1   \n",
       "4                           Allen, Mr. William Henry    male  35.0      0   \n",
       "\n",
       "   Parch            Ticket     Fare Embarked  male  Q  S  \n",
       "0      0         A/5 21171   7.2500        S     1  0  1  \n",
       "1      0          PC 17599  71.2833        C     0  0  0  \n",
       "2      0  STON/O2. 3101282   7.9250        S     0  0  1  \n",
       "3      0            113803  53.1000        S     0  0  1  \n",
       "4      0            373450   8.0500        S     1  0  1  "
      ]
     },
     "execution_count": 20,
     "metadata": {},
     "output_type": "execute_result"
    }
   ],
   "source": [
    "train.head()"
   ]
  },
  {
   "cell_type": "markdown",
   "id": "6a191287",
   "metadata": {},
   "source": [
    "We got new columns `male, Q, S` in our dataframe as replacement columns for `Sex` and `Embarked` to input to our Machine Learning algorithm. We don't need `Sex` `PassengerId` and `Embarked` columns anymore. We will also not use `Ticket` and `Name` columns in this project, this information is not much helpful at this stage.<br>\n",
    "Let's drop `Sex, Embarked, Ticket, Name, PassengerId ` columns for our dataset."
   ]
  },
  {
   "cell_type": "code",
   "execution_count": 21,
   "id": "82bc3cf6",
   "metadata": {},
   "outputs": [],
   "source": [
    "train.drop(['Sex','Embarked','Name','Ticket','PassengerId'],axis=1,inplace=True)"
   ]
  },
  {
   "cell_type": "code",
   "execution_count": 22,
   "id": "268d549a",
   "metadata": {},
   "outputs": [
    {
     "data": {
      "text/html": [
       "<div>\n",
       "<style scoped>\n",
       "    .dataframe tbody tr th:only-of-type {\n",
       "        vertical-align: middle;\n",
       "    }\n",
       "\n",
       "    .dataframe tbody tr th {\n",
       "        vertical-align: top;\n",
       "    }\n",
       "\n",
       "    .dataframe thead th {\n",
       "        text-align: right;\n",
       "    }\n",
       "</style>\n",
       "<table border=\"1\" class=\"dataframe\">\n",
       "  <thead>\n",
       "    <tr style=\"text-align: right;\">\n",
       "      <th></th>\n",
       "      <th>Survived</th>\n",
       "      <th>Pclass</th>\n",
       "      <th>Age</th>\n",
       "      <th>SibSp</th>\n",
       "      <th>Parch</th>\n",
       "      <th>Fare</th>\n",
       "      <th>male</th>\n",
       "      <th>Q</th>\n",
       "      <th>S</th>\n",
       "    </tr>\n",
       "  </thead>\n",
       "  <tbody>\n",
       "    <tr>\n",
       "      <th>0</th>\n",
       "      <td>0</td>\n",
       "      <td>3</td>\n",
       "      <td>22.0</td>\n",
       "      <td>1</td>\n",
       "      <td>0</td>\n",
       "      <td>7.2500</td>\n",
       "      <td>1</td>\n",
       "      <td>0</td>\n",
       "      <td>1</td>\n",
       "    </tr>\n",
       "    <tr>\n",
       "      <th>1</th>\n",
       "      <td>1</td>\n",
       "      <td>1</td>\n",
       "      <td>38.0</td>\n",
       "      <td>1</td>\n",
       "      <td>0</td>\n",
       "      <td>71.2833</td>\n",
       "      <td>0</td>\n",
       "      <td>0</td>\n",
       "      <td>0</td>\n",
       "    </tr>\n",
       "  </tbody>\n",
       "</table>\n",
       "</div>"
      ],
      "text/plain": [
       "   Survived  Pclass   Age  SibSp  Parch     Fare  male  Q  S\n",
       "0         0       3  22.0      1      0   7.2500     1  0  1\n",
       "1         1       1  38.0      1      0  71.2833     0  0  0"
      ]
     },
     "execution_count": 22,
     "metadata": {},
     "output_type": "execute_result"
    }
   ],
   "source": [
    "train.head(2)"
   ]
  },
  {
   "cell_type": "markdown",
   "id": "47045ea0",
   "metadata": {},
   "source": [
    "So, our data is ready to train our Machine Learning algorithm. <br>\n",
    "We did the following steps:\n",
    "* fixed the missing data issue\n",
    "* created dummies for categorical features\n",
    "* dealt with Multi-Collinearity issue\n",
    "* dropped the columns we don't need\n",
    "\n",
    "**Let's build and train Logistic Regression Model for our data!**"
   ]
  },
  {
   "cell_type": "markdown",
   "id": "ec700cb0",
   "metadata": {},
   "source": [
    "\n",
    "## Model Building - Logistic Regression\n",
    "Our dataset is ready for building a Logistic Regression Model. We will take `train` as all of our data and split it into train and test dataset using `train_test_split()` method in `sklearn`. "
   ]
  },
  {
   "cell_type": "markdown",
   "id": "8f4b5dcc",
   "metadata": {},
   "source": [
    "**Train Test Split**<br>\n",
    "Let's pass features to X and target to y. Survived is our target column whereas all other are features!"
   ]
  },
  {
   "cell_type": "code",
   "execution_count": 23,
   "id": "f5998887",
   "metadata": {},
   "outputs": [],
   "source": [
    "X = train.drop('Survived', axis = 1)\n",
    "y = train['Survived']"
   ]
  },
  {
   "cell_type": "code",
   "execution_count": 24,
   "id": "12737fa6",
   "metadata": {},
   "outputs": [],
   "source": [
    "# Importing required method from sklearn\n",
    "from sklearn.model_selection import train_test_split"
   ]
  },
  {
   "cell_type": "code",
   "execution_count": 25,
   "id": "d88348c7",
   "metadata": {},
   "outputs": [],
   "source": [
    "# Let's keep the default size and states\n",
    "X_train, X_test, y_train, y_test = train_test_split(X, y, test_size=0.33, random_state=42)"
   ]
  },
  {
   "cell_type": "markdown",
   "id": "5376d541",
   "metadata": {},
   "source": [
    "**Training**<br>\n",
    "Let's import `LogisticRegression` from `linear_model` family in `sklearn` and create its instance!"
   ]
  },
  {
   "cell_type": "code",
   "execution_count": 26,
   "id": "7db2e6ad",
   "metadata": {},
   "outputs": [],
   "source": [
    "from sklearn.linear_model import LogisticRegression\n",
    "logR = LogisticRegression()"
   ]
  },
  {
   "cell_type": "code",
   "execution_count": 27,
   "id": "f1f382da",
   "metadata": {},
   "outputs": [
    {
     "data": {
      "text/plain": [
       "LogisticRegression()"
      ]
     },
     "execution_count": 27,
     "metadata": {},
     "output_type": "execute_result"
    }
   ],
   "source": [
    "# Training the model on our training dataset -- shift+tab for doc string\n",
    "logR.fit(X_train, y_train)"
   ]
  },
  {
   "cell_type": "markdown",
   "id": "a43b3690",
   "metadata": {},
   "source": [
    "### Predictions\n",
    "Out model is trained on the given dataset, default parameters are shown above.<br>\n",
    "Let's get the predictions for our test dataset from trained model `logR`"
   ]
  },
  {
   "cell_type": "code",
   "execution_count": 28,
   "id": "892d219a",
   "metadata": {},
   "outputs": [],
   "source": [
    "predictions = logR.predict(X_test)"
   ]
  },
  {
   "cell_type": "markdown",
   "id": "61d7215a",
   "metadata": {},
   "source": [
    "**Comparing our prediction result with the actual result of survival**"
   ]
  },
  {
   "cell_type": "markdown",
   "id": "9dcce4bb",
   "metadata": {},
   "source": [
    "### Evaluation \n",
    "Evaluation process has its own importance, we want our model to be as good as possible in predictions. scikit-learn provides a very nice and efficient way to evaluate classification tasks using its `classification_report` module. <br>\n",
    "Let's import this module and use for evaluation<br>"
   ]
  },
  {
   "cell_type": "code",
   "execution_count": 29,
   "id": "f31b3e86",
   "metadata": {},
   "outputs": [],
   "source": [
    "from sklearn.metrics import classification_report"
   ]
  },
  {
   "cell_type": "code",
   "execution_count": 30,
   "id": "c5049766",
   "metadata": {},
   "outputs": [
    {
     "name": "stdout",
     "output_type": "stream",
     "text": [
      "              precision    recall  f1-score   support\n",
      "\n",
      "           0       0.86      0.85      0.85       184\n",
      "           1       0.75      0.76      0.76       110\n",
      "\n",
      "    accuracy                           0.82       294\n",
      "   macro avg       0.80      0.81      0.80       294\n",
      "weighted avg       0.82      0.82      0.82       294\n",
      "\n"
     ]
    }
   ],
   "source": [
    "print(classification_report(y_test,predictions))"
   ]
  },
  {
   "cell_type": "markdown",
   "id": "51d5658e",
   "metadata": {},
   "source": [
    "The classification report outputs the precision, recall, f1-score and support cases for each class along with their averages.<br>\n",
    "It all up to us, if we don't want the classification report and interested in the confusion matrix to calculate any specific value, we can get that one as well.<br>\n",
    "Let's get the pure confusion matrix."
   ]
  },
  {
   "cell_type": "code",
   "execution_count": 31,
   "id": "bc4c8417",
   "metadata": {},
   "outputs": [],
   "source": [
    "from sklearn.metrics import confusion_matrix"
   ]
  },
  {
   "cell_type": "code",
   "execution_count": 32,
   "id": "4a0ab7fe",
   "metadata": {},
   "outputs": [
    {
     "name": "stdout",
     "output_type": "stream",
     "text": [
      "[[156  28]\n",
      " [ 26  84]]\n"
     ]
    }
   ],
   "source": [
    "# Let's pass the y_test and predictions to get the confusion_matrix\n",
    "print(confusion_matrix(y_test, predictions))"
   ]
  },
  {
   "cell_type": "markdown",
   "id": "0e0ca473",
   "metadata": {},
   "source": [
    "**The End for Logistic Regression**"
   ]
  }
 ],
 "metadata": {
  "kernelspec": {
   "display_name": "Python 3 (ipykernel)",
   "language": "python",
   "name": "python3"
  },
  "language_info": {
   "codemirror_mode": {
    "name": "ipython",
    "version": 3
   },
   "file_extension": ".py",
   "mimetype": "text/x-python",
   "name": "python",
   "nbconvert_exporter": "python",
   "pygments_lexer": "ipython3",
   "version": "3.9.13"
  }
 },
 "nbformat": 4,
 "nbformat_minor": 5
}
